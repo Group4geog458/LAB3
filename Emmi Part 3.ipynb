{
 "cells": [
  {
   "cell_type": "code",
   "execution_count": 1,
   "metadata": {},
   "outputs": [],
   "source": [
    "# Setup\n",
    "import geopandas as gpd\n",
    "import pandas as pd\n",
    "import dbfread as dbf\n",
    "\n",
    "# Reading the shapefile as a GeoDataFrame\n",
    "wa_blocks = gpd.read_file(\"shapefile/saep_bg10.shp\")"
   ]
  },
  {
   "cell_type": "code",
   "execution_count": 2,
   "metadata": {},
   "outputs": [],
   "source": [
    "# Step 1: Determining urban/rural classification based on population density\n",
    "\n",
    "# Creating new columns with dummy values\n",
    "wa_blocks['density'] = None\n",
    "wa_blocks['urb_or_rur'] = None\n",
    "\n",
    "for index, row in wa_blocks.iterrows():\n",
    "    if row['ALANDMI'] == 0: # Some values for the land areas are 0??\n",
    "        wa_blocks.loc[index, 'density'] = 0 # Avoids dividing by zero problem\n",
    "    else:\n",
    "        wa_blocks.loc[index, 'density'] = (row['POP2018'] / row['ALANDMI']) # calculate the density field\n",
    "            \n",
    "for index, row in wa_blocks.iterrows():\n",
    "    if row['density'] >= 1000: # Population density is greater than or equal to 1000 people per square mile\n",
    "        wa_blocks.loc[index, 'urb_or_rur'] = 'Urban'\n",
    "    else: # Density is fewer than 1000 per square mile\n",
    "        wa_blocks.loc[index, 'urb_or_rur'] = 'Rural'"
   ]
  },
  {
   "cell_type": "code",
   "execution_count": 3,
   "metadata": {},
   "outputs": [
    {
     "name": "stdout",
     "output_type": "stream",
     "text": [
      "     POP2018  ALANDMI  density urb_or_rur\n",
      "10  1356.963    2.519  538.691      Rural\n",
      "11  1308.087    0.323   4049.8      Urban\n",
      "12  1824.879    0.988  1847.04      Urban\n",
      "13  2409.738    3.452   698.07      Rural\n",
      "14  2968.659    1.330  2232.07      Urban\n",
      "15  1447.847  185.542  7.80334      Rural\n",
      "16   821.095  320.618  2.56098      Rural\n",
      "17  2280.965   11.314  201.606      Rural\n",
      "18  1123.780    1.449  775.556      Rural\n",
      "19  1095.111    0.387  2829.74      Urban\n"
     ]
    }
   ],
   "source": [
    "# Delete this later!! - just for checking that the calculated columns look okay\n",
    "# .loc does position-based selection\n",
    "# first part is the row, second part is the column(s)\n",
    "\n",
    "print wa_blocks.loc[10:19,['POP2018', 'ALANDMI', 'density', 'urb_or_rur']]"
   ]
  },
  {
   "cell_type": "code",
   "execution_count": 33,
   "metadata": {},
   "outputs": [
    {
     "name": "stdout",
     "output_type": "stream",
     "text": [
      "Estimation for the percentage of the poulation in Washington that is urbanized is 73.06% of people.\n",
      "Estimation for the percentage of urbanized land area in Washington is 2.28%.\n"
     ]
    }
   ],
   "source": [
    "# Steps 2 and 3: Calculating percentage of the pop/area is urbanized\n",
    "\n",
    "# New variables for the urban stuff\n",
    "totalUrbPop = 0\n",
    "totalUrbArea = 0\n",
    "\n",
    "# Variables for total figures\n",
    "totalPop = wa_blocks.POP2018.sum()\n",
    "totalAr = wa_blocks.ALANDMI.sum()\n",
    "\n",
    "for index, row in wa_blocks.iterrows():\n",
    "    if row['urb_or_rur'] == 'Urban':\n",
    "        totalUrbPop = totalUrbPop + wa_blocks.loc[index, 'POP2018']\n",
    "        totalUrbArea = totalUrbArea + wa_blocks.loc[index, 'ALANDMI']\n",
    "\n",
    "print \"Estimation for the percentage of the poulation in Washington that is urbanized is \" + str(round(totalUrbPop / totalPop * 100, 2)) + \"% of people.\"\n",
    "print \"Estimation for the percentage of urbanized land area in Washington is \" + str(round(totalUrbArea / totalAr * 100, 2)) + \"%.\""
   ]
  },
  {
   "cell_type": "code",
   "execution_count": 5,
   "metadata": {},
   "outputs": [
    {
     "name": "stdout",
     "output_type": "stream",
     "text": [
      "       POP2018  ALANDMI density urb_or_rur\n",
      "1250  1829.191    0.033   55430      Urban\n"
     ]
    }
   ],
   "source": [
    "# Delete later - just for looking at calculatd columns\n",
    "#wa_blocks.groupby('urb_or_rur').sum().POP2018\n",
    "#wa_blocks.loc[wa_blocks['urb_or_rur'] == 'Rural', 'POP2018'].sum()\n",
    "print(wa_blocks.loc[[1250], ['POP2018', 'ALANDMI', 'density', 'urb_or_rur']])"
   ]
  },
  {
   "cell_type": "code",
   "execution_count": 6,
   "metadata": {},
   "outputs": [],
   "source": [
    "# Step 4 setup - looking at previous decade\n",
    "# Need to calculate 2008 density and categories first\n",
    "\n",
    "# Creating new columns with dummy values\n",
    "wa_blocks['2008density'] = None\n",
    "wa_blocks['2008urb_or_rur'] = None\n",
    "wa_blocks['block_change'] = None\n",
    "\n",
    "for index, row in wa_blocks.iterrows():\n",
    "    if row['ALANDMI'] == 0: # Land area field is 0\n",
    "        wa_blocks.loc[index, '2008density'] = 0 # Avoids dividing by zero problem\n",
    "        wa_blocks.loc[index, '2008urb_or_rur'] = 'Rural' # Automatically classified as rural\n",
    "    else:\n",
    "        wa_blocks.loc[index, '2008density'] = (row['POP2008'] / row['ALANDMI']) # Calculates density from population and land area\n",
    "        if wa_blocks.loc[index, '2008density'] >= 1000: # Density greater than 1000\n",
    "            wa_blocks.loc[index, '2008urb_or_rur'] = 'Urban'\n",
    "        else: # Density less than 1000 per square mile\n",
    "            wa_blocks.loc[index, '2008urb_or_rur'] = 'Rural'"
   ]
  },
  {
   "cell_type": "code",
   "execution_count": 7,
   "metadata": {},
   "outputs": [],
   "source": [
    "# Step 4 getting the categorical change\n",
    "\n",
    "for index, row in wa_blocks.iterrows():\n",
    "    c2018 = row['urb_or_rur']\n",
    "    c2008 = row['2008urb_or_rur']\n",
    "    \n",
    "    if c2008 == c2018: # Same category for both years\n",
    "        wa_blocks.loc[index, 'block_change'] = 'No Change in Category'\n",
    "    elif c2008 == 'Urban' and c2018 == 'Rural': # Changed from Urban to Rural\n",
    "        wa_blocks.loc[index, 'block_change'] = 'De-Urbanized'\n",
    "    elif c2008 == 'Rural' and c2018 == 'Urban': # Changed from Rural to Urban\n",
    "        wa_blocks.loc[index, 'block_change'] = 'Urbanized'"
   ]
  },
  {
   "cell_type": "code",
   "execution_count": 48,
   "metadata": {},
   "outputs": [
    {
     "name": "stdout",
     "output_type": "stream",
     "text": [
      "65 block groups 'urbanized' between 2008 and 2018, while 2 groups de-urbanized in the same time period. \n",
      "4716 block groups had no change in category.\n"
     ]
    }
   ],
   "source": [
    "# Step 5\n",
    "\n",
    "# Variables for totals\n",
    "urb_grps = 0\n",
    "deurb_grps = 0\n",
    "nochange = 0\n",
    "\n",
    "for index, row in wa_blocks.iterrows():\n",
    "    if row['block_change'] == 'De-Urbanized':\n",
    "        deurb_grps = deurb_grps + 1\n",
    "    elif row['block_change'] == 'Urbanized':\n",
    "        urb_grps = urb_grps + 1\n",
    "    else: # no change\n",
    "        nochange = nochange + 1\n",
    "        \n",
    "print str(urb_grps) + \" block groups 'urbanized' between 2008 and 2018, while \" + str(deurb_grps) + \" groups de-urbanized in the same time period. \\n\" + str(nochange) + \" block groups had no change in category.\""
   ]
  },
  {
   "cell_type": "code",
   "execution_count": 18,
   "metadata": {},
   "outputs": [
    {
     "name": "stdout",
     "output_type": "stream",
     "text": [
      "density                947.903\n",
      "urb_or_rur               Rural\n",
      "2008density            1047.24\n",
      "2008urb_or_rur           Urban\n",
      "block_change      De-Urbanized\n",
      "Name: 2272, dtype: object\n",
      "\n",
      "\n",
      "density                986.513\n",
      "urb_or_rur               Rural\n",
      "2008density            1005.36\n",
      "2008urb_or_rur           Urban\n",
      "block_change      De-Urbanized\n",
      "Name: 2741, dtype: object\n",
      "\n",
      "\n"
     ]
    }
   ],
   "source": [
    "# Delete later - printing which blocks de-urbanized\n",
    "\n",
    "for index, row in wa_blocks.iterrows():\n",
    "    if row['block_change'] == 'Urbanized':\n",
    "        print wa_blocks.loc[index, ['density', 'urb_or_rur', '2008density', '2008urb_or_rur','block_change']]\n",
    "        print '\\n'"
   ]
  },
  {
   "cell_type": "code",
   "execution_count": 26,
   "metadata": {},
   "outputs": [
    {
     "data": {
      "text/plain": [
       "No Change in Category    4716\n",
       "Urbanized                  65\n",
       "De-Urbanized                2\n",
       "Name: block_change, dtype: int64"
      ]
     },
     "execution_count": 26,
     "metadata": {},
     "output_type": "execute_result"
    }
   ],
   "source": [
    "# Delete later - shows the different categories and their respective counts\n",
    "\n",
    "wa_blocks['block_change'].value_counts()"
   ]
  },
  {
   "cell_type": "code",
   "execution_count": 49,
   "metadata": {},
   "outputs": [],
   "source": [
    "# This saves the result as a shapefile\n",
    "\n",
    "#wa_blocks.to_file(\"wa_blocks.shp\")"
   ]
  }
 ],
 "metadata": {
  "kernelspec": {
   "display_name": "Python 2",
   "language": "python",
   "name": "python2"
  },
  "language_info": {
   "codemirror_mode": {
    "name": "ipython",
    "version": 2
   },
   "file_extension": ".py",
   "mimetype": "text/x-python",
   "name": "python",
   "nbconvert_exporter": "python",
   "pygments_lexer": "ipython2",
   "version": "2.7.15"
  }
 },
 "nbformat": 4,
 "nbformat_minor": 2
}
