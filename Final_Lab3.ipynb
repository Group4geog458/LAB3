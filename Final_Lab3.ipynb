{
 "cells": [
  {
   "cell_type": "markdown",
   "metadata": {},
   "source": [
    "# Part 1 - Introduction\n",
    "\n",
    "### Definitions of 'Urban' and 'Rural'\n",
    "\n",
    ">The Census Bureau’s urban areas represent densely developed territory, and encompass residential, commercial, and other non-residential urban land uses. The Census Bureau delineates urban areas after each decennial census by applying specified criteria to decennial census and other data.\n",
    "\n",
    "According to the US Census Bureau, the [2010 Census](https://www.census.gov/geo/reference/ua/urban-rural-2010.html) quantified urban areas as encompassing a minimum of 2,500 people, including at least 1,500 in the surrounding area. The US Census defines two types of urban areas, categorized by population: **Urbanized Areas** (UAs) with 50,000 or greater, and **Urban Clusters** (UCs) with 2,500 up to 50,000. After 2010, [around 500 UAs and 3,000 UCs](https://www.census.gov/geo/reference/ua/uafacts.html) were defined in the US. Around 80 percent of the US population was living within urban areas at this time.  \n",
    "\n",
    ">'Rural' encompasses all population, housing, and territory not included within an urban area.  \n",
    "\n",
    "Interestingly, \"rural\" lacks its own discrete definition. The Census Bureau defines \"rural\" in terms of the \"urban\" - as being excluded from the urban area.\n",
    "\n",
    "Another way of measuring an area's degree of 'urban' is through [**Metropolitan** and **Micropolitan** areas](https://www.census.gov/library/publications/2012/dec/c2010sr-01.html). These are better suited for many inquiries as opposed to overly large states or too many small counties. These alternate areas are \"socially and economically integrated groupings of one or more counties\" and \"provide appropriately detailed geographic analysis as well as good mapping units for a national overview.\"\n",
    "\n",
    "### Other Definitions\n",
    "\n",
    "In England and Wales, the units are called **'Output Areas'**. Here, 'urban' does not have one single definition due to varying criteria. The Office for National Statistics determines 'urban' on the basis of having [greater than 10,000 people](https://www.ons.gov.uk/methodology/geography/geographicalproducts/ruralurbanclassifications/2011ruralurbanclassification). Around 80% of England's population lived in urban areas in 2011. \n",
    "Similar to the US, 'rural' is also classified as simply *not being urban* in the UK. There are more categories to describe a rural area (town and fringe, village, hamlet and isolated dwellings), as well as each type being [\"sparse\" or \"less sparse\"](https://webarchive.nationalarchives.gov.uk/20160107121407/http://www.ons.gov.uk/ons/guide-method/geography/products/area-classifications/rural-urban-definition-and-la/rural-urban-definition--england-and-wales-/index.html).\n",
    "\n",
    "A different theoretical definition of urban areas includes not only a high population count, but that population *density* being higher as well. This characteristic is accompanied by the connotation of a large built environment, including skyscrapers, mass transportation, large commercial land use, and bustling city streets. Additionally, just outside of this \"urban core\" described above, is the theoretical understanding that the greater urbanized area is surrounded by areas of varying degrees of high population, mixed land uses (including some residential), and satellite cities, all of which are connected to the core.  \n",
    "\n",
    "### Data Source\n",
    "\n",
    "The data used for this lab is provided by the State of Washington Office of Financial Management's [**Small Area Estimates Program** (SAEP)](https://www.ofm.wa.gov/washington-data-research/population-demographics/population-estimates/small-area-estimates-program).\n",
    "\n",
    ">The SAEP estimates include both intercensal and postcensal estimates. The data for years 2000-2009 are considered intercensal estimates whereas the data for years 2011-present are considered postcensal estimates. The two estimate series differ in their development and revision cycles but both series are based on 2010 census blocks.  \n",
    "\n",
    "Three variables are measured during the estimation process: group quarter populations, housing units, and household populations. This demographic data is kept in its un-rounded form as a reminder that the figures are estimates. However, because of these approximations, the data is neither a precise statistic nor a definitive count. This process is repeated yearly, and subsequent data builds off of that of the previous year.  \n",
    "\n",
    "Potential issues with this dataset come from inherent error in estimation, specifically in regards to caclucations and original data collection.\n",
    "\n",
    "### Findings\n",
    "\n",
    "Our definition of urban is greater than 1,000 people per square mile. As a result of our analysis, we calculated that as of 2018 population estimations, 73.06% of the population in Washington is urban and 2.28% of the land area in Washington is urbanized. Additionally, the majority of block groups experienced no change (4716 blocks), only 65 block groups 'urbanized' between 2008 and 2018, while 2 groups de-urbanized in the same time period. \n"
   ]
  },
  {
   "cell_type": "markdown",
   "metadata": {},
   "source": [
    "# Part 2 – Basic Processing with Python\n"
   ]
  },
  {
   "cell_type": "code",
   "execution_count": 38,
   "metadata": {},
   "outputs": [
    {
     "data": {
      "text/html": [
       "<div>\n",
       "<style scoped>\n",
       "    .dataframe tbody tr th:only-of-type {\n",
       "        vertical-align: middle;\n",
       "    }\n",
       "\n",
       "    .dataframe tbody tr th {\n",
       "        vertical-align: top;\n",
       "    }\n",
       "\n",
       "    .dataframe thead th {\n",
       "        text-align: right;\n",
       "    }\n",
       "</style>\n",
       "<table border=\"1\" class=\"dataframe\">\n",
       "  <thead>\n",
       "    <tr style=\"text-align: right;\">\n",
       "      <th></th>\n",
       "      <th>county_name</th>\n",
       "      <th>county_population</th>\n",
       "    </tr>\n",
       "  </thead>\n",
       "  <tbody>\n",
       "    <tr>\n",
       "      <th>16</th>\n",
       "      <td>King</td>\n",
       "      <td>2153700.0</td>\n",
       "    </tr>\n",
       "    <tr>\n",
       "      <th>26</th>\n",
       "      <td>Pierce</td>\n",
       "      <td>859400.0</td>\n",
       "    </tr>\n",
       "    <tr>\n",
       "      <th>30</th>\n",
       "      <td>Snohomish</td>\n",
       "      <td>789400.0</td>\n",
       "    </tr>\n",
       "    <tr>\n",
       "      <th>31</th>\n",
       "      <td>Spokane</td>\n",
       "      <td>499800.0</td>\n",
       "    </tr>\n",
       "    <tr>\n",
       "      <th>5</th>\n",
       "      <td>Clark</td>\n",
       "      <td>471000.0</td>\n",
       "    </tr>\n",
       "    <tr>\n",
       "      <th>33</th>\n",
       "      <td>Thurston</td>\n",
       "      <td>276900.0</td>\n",
       "    </tr>\n",
       "    <tr>\n",
       "      <th>17</th>\n",
       "      <td>Kitsap</td>\n",
       "      <td>264300.0</td>\n",
       "    </tr>\n",
       "    <tr>\n",
       "      <th>38</th>\n",
       "      <td>Yakima</td>\n",
       "      <td>253000.0</td>\n",
       "    </tr>\n",
       "    <tr>\n",
       "      <th>36</th>\n",
       "      <td>Whatcom</td>\n",
       "      <td>216300.0</td>\n",
       "    </tr>\n",
       "    <tr>\n",
       "      <th>2</th>\n",
       "      <td>Benton</td>\n",
       "      <td>193500.0</td>\n",
       "    </tr>\n",
       "  </tbody>\n",
       "</table>\n",
       "</div>"
      ],
      "text/plain": [
       "   county_name  county_population\n",
       "16        King          2153700.0\n",
       "26      Pierce           859400.0\n",
       "30   Snohomish           789400.0\n",
       "31     Spokane           499800.0\n",
       "5        Clark           471000.0\n",
       "33    Thurston           276900.0\n",
       "17      Kitsap           264300.0\n",
       "38      Yakima           253000.0\n",
       "36     Whatcom           216300.0\n",
       "2       Benton           193500.0"
      ]
     },
     "execution_count": 38,
     "metadata": {},
     "output_type": "execute_result"
    }
   ],
   "source": [
    "# Imports\n",
    "import geopandas as gpd\n",
    "import pandas as pd\n",
    "import dbfread as dbf\n",
    "\n",
    "# Reading in shapefile data\n",
    "saep_bg10 = gpd.read_file(\"LAB3-Emmi/saep_bg10/saep_bg10.shp\")\n",
    "saep_bg10.head()\n",
    "\n",
    "# Reading in DBF data and converting into a Panda's dataframe\n",
    "WashingtonFIPS = dbf.DBF('LAB3-Emmi/WashingtonFIPS.dbf')\n",
    "fips_df = pd.DataFrame(iter(WashingtonFIPS))\n",
    "fips_df.head()\n",
    "\n",
    "# Creating shapefiles and gathering population sums for each county\n",
    "\n",
    "# Creating empty dataframe to store population sums \n",
    "counties = pd.DataFrame(columns=['county_name', 'county_population'])\n",
    "\n",
    "# Iterate through the fips_df to get individual county name and number\n",
    "for index, row in fips_df.iterrows():\n",
    "    fips = row.FIPSCounty\n",
    "    name = row.CountyName\n",
    "    \n",
    "    # Using the fips from fips_df\n",
    "    # Select using loc to select the rows of saep_bg10 where the \n",
    "    # COUNTYFP10 == fips of current county\n",
    "    # i.e. selects the rows from saep_bg10 for each county\n",
    "    polygons = saep_bg10.loc[saep_bg10['COUNTYFP10'] == fips]\n",
    "    \n",
    "    # Adding the county name and sum of the populations for 2017 from \n",
    "    # the polygons made above\n",
    "    counties.loc[index] = [name, sum(polygons['POP2017'])]\n",
    "    \n",
    "    # Creates the filename and adds the polygons for each county to the \n",
    "    # shapefile for that county\n",
    "    filename = \"counties/\" + name + \".shp\"\n",
    "#     polygons.to_file(filename)\n",
    "    \n",
    "# Sorting the counties by the population\n",
    "pop_list = counties.sort_values(by=['county_population'], ascending=False)\n",
    "pop_list.head(10)"
   ]
  },
  {
   "cell_type": "markdown",
   "metadata": {},
   "source": [
    "Above is a ranked list, in descending order, of the ten largest total populations in 2017 of counties in Washington, according to this dataset."
   ]
  },
  {
   "cell_type": "markdown",
   "metadata": {},
   "source": [
    "# Part 3 – Urban vs. Rural"
   ]
  },
  {
   "cell_type": "code",
   "execution_count": 39,
   "metadata": {},
   "outputs": [
    {
     "name": "stdout",
     "output_type": "stream",
     "text": [
      "Estimation for the percentage of the poulation in Washington that is urbanized is 73.06% of people.\n",
      "Estimation for the percentage of urbanized land area in Washington is 2.28%.\n"
     ]
    }
   ],
   "source": [
    "# Setup\n",
    "import geopandas as gpd\n",
    "import pandas as pd\n",
    "import dbfread as dbf\n",
    "\n",
    "# Reading the shapefile as a GeoDataFrame\n",
    "wa_blocks = gpd.read_file(\"saep_bg10/saep_bg10.shp\")\n",
    "\n",
    "# Step 1: Determining urban/rural classification based on population density\n",
    "\n",
    "# Creating new columns with dummy values\n",
    "wa_blocks['density'] = None\n",
    "wa_blocks['urb_or_rur'] = None\n",
    "\n",
    "for index, row in wa_blocks.iterrows():\n",
    "    if row['ALANDMI'] == 0: # Some values for the land areas are 0??\n",
    "        wa_blocks.loc[index, 'density'] = 0 # Avoids dividing by zero problem\n",
    "    else:\n",
    "        wa_blocks.loc[index, 'density'] = (row['POP2018'] / row['ALANDMI']) # calculate the density field\n",
    "            \n",
    "for index, row in wa_blocks.iterrows():\n",
    "    if row['density'] >= 1000: # Population density is greater than or equal to 1000 people per square mile\n",
    "        wa_blocks.loc[index, 'urb_or_rur'] = 'Urban'\n",
    "    else: # Density is fewer than 1000 per square mile\n",
    "        wa_blocks.loc[index, 'urb_or_rur'] = 'Rural'\n",
    "        \n",
    "# Delete this later!! - just for checking that the calculated columns look okay\n",
    "# .loc does position-based selection\n",
    "# first part is the row, second part is the column(s)\n",
    "\n",
    "#print wa_blocks.loc[10:19,['POP2018', 'ALANDMI', 'density', 'urb_or_rur']]\n",
    "\n",
    "# Steps 2 and 3: Calculating percentage of the pop/area is urbanized\n",
    "\n",
    "# New variables for the urban stuff\n",
    "totalUrbPop = 0\n",
    "totalUrbArea = 0\n",
    "\n",
    "# Variables for total figures\n",
    "totalPop = wa_blocks.POP2018.sum()\n",
    "totalAr = wa_blocks.ALANDMI.sum()\n",
    "\n",
    "for index, row in wa_blocks.iterrows():\n",
    "    if row['urb_or_rur'] == 'Urban':\n",
    "        totalUrbPop = totalUrbPop + wa_blocks.loc[index, 'POP2018']\n",
    "        totalUrbArea = totalUrbArea + wa_blocks.loc[index, 'ALANDMI']\n",
    "\n",
    "print (\"Estimation for the percentage of the poulation in Washington that is urbanized is \" + str(round(totalUrbPop / totalPop * 100, 2)) + \"% of people.\")\n",
    "print (\"Estimation for the percentage of urbanized land area in Washington is \" + str(round(totalUrbArea / totalAr * 100, 2)) + \"%.\")"
   ]
  },
  {
   "cell_type": "code",
   "execution_count": 40,
   "metadata": {},
   "outputs": [
    {
     "name": "stdout",
     "output_type": "stream",
     "text": [
      "65 block groups 'urbanized' between 2008 and 2018, while 2 groups de-urbanized in the same time period. \n",
      "4716 block groups had no change in category.\n"
     ]
    }
   ],
   "source": [
    "# Delete later - just for looking at calculatd columns\n",
    "#wa_blocks.groupby('urb_or_rur').sum().POP2018\n",
    "#wa_blocks.loc[wa_blocks['urb_or_rur'] == 'Rural', 'POP2018'].sum()\n",
    "#print(wa_blocks.loc[[1250], ['POP2018', 'ALANDMI', 'density', 'urb_or_rur']])\n",
    "\n",
    "# Step 4 setup - looking at previous decade\n",
    "# Need to calculate 2008 density and categories first\n",
    "\n",
    "# Creating new columns with dummy values\n",
    "wa_blocks['2008density'] = None\n",
    "wa_blocks['2008urb_or_rur'] = None\n",
    "wa_blocks['block_change'] = None\n",
    "\n",
    "for index, row in wa_blocks.iterrows():\n",
    "    if row['ALANDMI'] == 0: # Land area field is 0\n",
    "        wa_blocks.loc[index, '2008density'] = 0 # Avoids dividing by zero problem\n",
    "        wa_blocks.loc[index, '2008urb_or_rur'] = 'Rural' # Automatically classified as rural\n",
    "    else:\n",
    "        wa_blocks.loc[index, '2008density'] = (row['POP2008'] / row['ALANDMI']) # Calculates density from population and land area\n",
    "        if wa_blocks.loc[index, '2008density'] >= 1000: # Density greater than 1000\n",
    "            wa_blocks.loc[index, '2008urb_or_rur'] = 'Urban'\n",
    "        else: # Density less than 1000 per square mile\n",
    "            wa_blocks.loc[index, '2008urb_or_rur'] = 'Rural'\n",
    "            \n",
    "# Step 4 getting the categorical change\n",
    "\n",
    "for index, row in wa_blocks.iterrows():\n",
    "    c2018 = row['urb_or_rur']\n",
    "    c2008 = row['2008urb_or_rur']\n",
    "    \n",
    "    if c2008 == c2018: # Same category for both years\n",
    "        wa_blocks.loc[index, 'block_change'] = 'No Change in Category'\n",
    "    elif c2008 == 'Urban' and c2018 == 'Rural': # Changed from Urban to Rural\n",
    "        wa_blocks.loc[index, 'block_change'] = 'De-Urbanized'\n",
    "    elif c2008 == 'Rural' and c2018 == 'Urban': # Changed from Rural to Urban\n",
    "        wa_blocks.loc[index, 'block_change'] = 'Urbanized'\n",
    "        \n",
    "# Step 5\n",
    "\n",
    "# Variables for totals\n",
    "urb_grps = 0\n",
    "deurb_grps = 0\n",
    "nochange = 0\n",
    "\n",
    "for index, row in wa_blocks.iterrows():\n",
    "    if row['block_change'] == 'De-Urbanized':\n",
    "        deurb_grps = deurb_grps + 1\n",
    "    elif row['block_change'] == 'Urbanized':\n",
    "        urb_grps = urb_grps + 1\n",
    "    else: # no change\n",
    "        nochange = nochange + 1\n",
    "        \n",
    "print (str(urb_grps) + \" block groups 'urbanized' between 2008 and 2018, while \" + str(deurb_grps) + \" groups de-urbanized in the same time period. \\n\" + str(nochange) + \" block groups had no change in category.\")"
   ]
  },
  {
   "cell_type": "code",
   "execution_count": 41,
   "metadata": {},
   "outputs": [
    {
     "data": {
      "text/plain": [
       "No Change in Category    4716\n",
       "Urbanized                  65\n",
       "De-Urbanized                2\n",
       "Name: block_change, dtype: int64"
      ]
     },
     "execution_count": 41,
     "metadata": {},
     "output_type": "execute_result"
    }
   ],
   "source": [
    "# Delete later - shows the different categories and their respective counts\n",
    "\n",
    "wa_blocks['block_change'].value_counts()"
   ]
  },
  {
   "cell_type": "markdown",
   "metadata": {},
   "source": [
    "## Visualizing Urbanization In Washington State"
   ]
  },
  {
   "cell_type": "code",
   "execution_count": 42,
   "metadata": {},
   "outputs": [],
   "source": [
    "#Imported maps see \"lab3_working_p3\" under Dani's branch for the code for the following 4 static maps"
   ]
  },
  {
   "cell_type": "markdown",
   "metadata": {},
   "source": [
    "Here the values in the legend are people per square mile.\n",
    "\n",
    "![alt text](2018_popdensity.png \"Title\")\n",
    "![alt text](2008_popdensity.png \"Title\")\n",
    "\n",
    "Here the values in the legend are 1 is reprentative of Urban blocks and 0 is representative of non-urban blocks.\n",
    "\n",
    "![alt text](2018_urbanstatus.png \"Title\")\n",
    "![alt text](2008_urbanstatus.png \"Title\")"
   ]
  },
  {
   "cell_type": "code",
   "execution_count": 51,
   "metadata": {},
   "outputs": [],
   "source": [
    "# folium interactive map\n",
    "import folium\n",
    "\n",
    "# Changed from nominal to numerical values from step 4 \n",
    "\n",
    "for index, row in wa_blocks.iterrows():\n",
    "    c2018 = row['urb_or_rur']\n",
    "    c2008 = row['2008urb_or_rur']\n",
    "    \n",
    "    if c2008 == c2018: # Same category for both years\n",
    "        wa_blocks.loc[index, 'block_change_1'] = 0\n",
    "    elif c2008 == 'Urban' and c2018 == 'Rural': # Changed from Urban to Rural\n",
    "        wa_blocks.loc[index, 'block_change_1'] = -1\n",
    "    elif c2008 == 'Rural' and c2018 == 'Urban': # Changed from Rural to Urban\n",
    "        wa_blocks.loc[index, 'block_change_1'] = 1\n",
    "\n",
    "geo_data = wa_blocks[['geometry', 'GEOID10']]\n",
    "geo_data.head()\n",
    "\n",
    "m = folium.Map([47, -120], zoom_start=6, tiles='cartodbpositron')\n",
    "\n",
    "# m.choropleth(\n",
    "#     geo_data=test,\n",
    "#     fill_color='YlGn',\n",
    "#     data=wa_blocks,\n",
    "#     key_on='feature.properties.GEOID10'\n",
    "# )\n",
    "# folium.GeoJson(wa_blocks).add_to(m)\n",
    "\n",
    "\n",
    "m.choropleth(\n",
    "    geo_data=geo_data,\n",
    "    data=wa_blocks,\n",
    "    columns=['GEOID10', 'block_change_1'],\n",
    "    key_on='feature.properties.GEOID10',\n",
    "    fill_color='RdBu',\n",
    "    line_weight=0.0\n",
    ")\n"
   ]
  },
  {
   "cell_type": "code",
   "execution_count": null,
   "metadata": {},
   "outputs": [],
   "source": [
    "m.save(outfile='DecadeofChange.html')"
   ]
  },
  {
   "cell_type": "markdown",
   "metadata": {},
   "source": [
    "[This](DecadeofChange.html) Map displays a decade of change in urbanization in Washington state. The data used for this map is comparing urban blocks in 2008 and urban blocks in 2018. Light blue (0) is no change from 2008-2018, red (-1) is de-urbanization from 2008-2018, and dark blue (1) is non-urban to urban from 2008-2018."
   ]
  }
 ],
 "metadata": {
  "kernelspec": {
   "display_name": "Python 3",
   "language": "python",
   "name": "python3"
  },
  "language_info": {
   "codemirror_mode": {
    "name": "ipython",
    "version": 3
   },
   "file_extension": ".py",
   "mimetype": "text/x-python",
   "name": "python",
   "nbconvert_exporter": "python",
   "pygments_lexer": "ipython3",
   "version": "3.7.2"
  }
 },
 "nbformat": 4,
 "nbformat_minor": 2
}
