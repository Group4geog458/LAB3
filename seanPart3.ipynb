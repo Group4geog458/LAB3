{
 "cells": [
  {
   "cell_type": "code",
   "execution_count": 12,
   "metadata": {},
   "outputs": [],
   "source": [
    "#imports\n",
    "import matplotlib.pyplot as plt\n",
    "import pandas as pds\n",
    "import geopandas as gpds"
   ]
  },
  {
   "cell_type": "code",
   "execution_count": 2,
   "metadata": {},
   "outputs": [],
   "source": [
    "#Read shapefile\n",
    "\n",
    "wa_cbg = gpds.read_file(\"saep_bg10.shp\")"
   ]
  },
  {
   "cell_type": "code",
   "execution_count": 3,
   "metadata": {
    "scrolled": true
   },
   "outputs": [
    {
     "name": "stdout",
     "output_type": "stream",
     "text": [
      "       ALANDMI   POP2018      dens Urban_Rural\n",
      "0      616.711   783.791   1.27092       Rural\n",
      "1        3.774  1146.257   303.725       Rural\n",
      "2        3.236   555.478   171.656       Rural\n",
      "3      417.409   420.051   1.00633       Rural\n",
      "4      135.972   707.054       5.2       Rural\n",
      "5      461.878   620.353   1.34311       Rural\n",
      "6        4.763  2046.913   429.753       Rural\n",
      "7      164.733  1309.365   7.94841       Rural\n",
      "8       66.782  1423.689   21.3185       Rural\n",
      "9       41.106  1138.723   27.7021       Rural\n",
      "10       2.519  1356.963   538.691       Rural\n",
      "11       0.323  1308.087    4049.8       Urban\n",
      "12       0.988  1824.879   1847.04       Urban\n",
      "13       3.452  2409.738    698.07       Rural\n",
      "14       1.330  2968.659   2232.07       Urban\n",
      "15     185.542  1447.847   7.80334       Rural\n",
      "16     320.618   821.095   2.56098       Rural\n",
      "17      11.314  2280.965   201.606       Rural\n",
      "18       1.449  1123.780   775.556       Rural\n",
      "19       0.387  1095.111   2829.74       Urban\n",
      "20       1.171   905.241    773.05       Rural\n",
      "21     110.981  1735.221   15.6353       Rural\n",
      "22       0.788  1119.879   1421.17       Urban\n",
      "23       0.172   917.541   5334.54       Urban\n",
      "24       0.198   771.031    3894.1       Urban\n",
      "25       0.374  1002.407   2680.23       Urban\n",
      "26       0.328  1152.456   3513.59       Urban\n",
      "27       0.285  1108.552   3889.66       Urban\n",
      "28       0.133   720.223   5415.21       Urban\n",
      "29       0.172   732.240   4257.21       Urban\n",
      "...        ...       ...       ...         ...\n",
      "4753   160.674  1069.575    6.6568       Rural\n",
      "4754     2.864  1412.101   493.052       Rural\n",
      "4755     4.890   942.326   192.705       Rural\n",
      "4756     3.442  1566.439   455.096       Rural\n",
      "4757     4.391  2004.156   456.424       Rural\n",
      "4758     0.991  1162.853   1173.41       Urban\n",
      "4759    20.113  2305.186   114.612       Rural\n",
      "4760     0.616  1790.485   2906.63       Urban\n",
      "4761     0.975  2576.460   2642.52       Urban\n",
      "4762     2.604  2664.585   1023.27       Urban\n",
      "4763     7.078  2448.804   345.974       Rural\n",
      "4764     3.391  2046.062    603.38       Rural\n",
      "4765    46.480   874.188   18.8078       Rural\n",
      "4766    42.397  1788.608   42.1871       Rural\n",
      "4767     9.770  1090.149   111.581       Rural\n",
      "4768    11.137  1310.499   117.671       Rural\n",
      "4769     8.006  1541.985   192.604       Rural\n",
      "4770    27.839   771.528   27.7139       Rural\n",
      "4771    12.031  1521.731   126.484       Rural\n",
      "4772    49.967  2244.552   44.9207       Rural\n",
      "4773  1687.078  1047.053  0.620631       Rural\n",
      "4774    52.346   841.050   16.0671       Rural\n",
      "4775    46.332  1898.617   40.9785       Rural\n",
      "4776     1.121  2118.585   1889.91       Urban\n",
      "4777     1.294  2269.571   1753.92       Urban\n",
      "4778     0.816  2449.773   3002.17       Urban\n",
      "4779     0.806  2502.438   3104.76       Urban\n",
      "4780     1.177  2305.351   1958.67       Urban\n",
      "4781     1.372  2671.268   1946.99       Urban\n",
      "4782     0.368  2196.788   5969.53       Urban\n",
      "\n",
      "[4783 rows x 4 columns]\n"
     ]
    }
   ],
   "source": [
    "#Step 1: Adding Columns, identify block groups as urban or rural.\n",
    "\n",
    "#inserting new, empty columns\n",
    "wa_cbg['dens'] = None\n",
    "wa_cbg['Urban_Rural'] = None\n",
    "\n",
    "#from Metadata of saep bg10 - ALANDMI = 2010 Census Land area (square miles)\n",
    "#from Metadata of saep_bg10 - POP2018 = SAEP Estimated Total Population 2018\n",
    "\n",
    "#showing data frame to ensure columns were added correctly\n",
    "#.head shows first 5 rows, but did not show ALANDMI and POP2018 columns\n",
    "wa_cbg.head()\n",
    "\n",
    "#testing to show ALANDMI and POP2018 specifically\n",
    "df_test = wa_cbg[['ALANDMI', 'POP2018', 'dens', 'Urban_Rural']]\n",
    "\n",
    "df_test\n",
    "\n",
    "#Calculations\n",
    "#had to add if statement to remove ZeroDivisonError\n",
    "for index, row in wa_cbg.iterrows():\n",
    "    if row['ALANDMI'] == 0:\n",
    "        wa_cbg.loc[index, 'dens'] = 0\n",
    "    else:\n",
    "        wa_cbg.loc[index, 'dens'] = (row['POP2018']/row['ALANDMI'])\n",
    "\n",
    "for index, row in wa_cbg.iterrows():\n",
    "    if row['dens'] >= 1000: #per sq mile\n",
    "        wa_cbg.loc[index, 'Urban_Rural'] = 'Urban'\n",
    "    else:\n",
    "        wa_cbg.loc[index, 'Urban_Rural'] = 'Rural'\n",
    "        \n",
    "#first try received ZeroDivisionError, had to add if statement to remove any zero division\n",
    "\n",
    "print wa_cbg[['ALANDMI', 'POP2018', 'dens', 'Urban_Rural']]\n"
   ]
  },
  {
   "cell_type": "code",
   "execution_count": 4,
   "metadata": {},
   "outputs": [
    {
     "name": "stdout",
     "output_type": "stream",
     "text": [
      "In 2018, the percentage of Washington State's population that is urbanized is approximately 73.06%.\n"
     ]
    }
   ],
   "source": [
    "#Step 2 - What percentage of the population of the state is urbanized, most recent year(2018)\n",
    "\n",
    "#2 variables\n",
    "UrbanPop = 0\n",
    "pop_sum = wa_cbg.POP2018.sum()\n",
    "\n",
    "for index, row in wa_cbg.iterrows():\n",
    "    if row['Urban_Rural'] == 'Urban':\n",
    "        UrbanPop = UrbanPop + wa_cbg.loc[index, 'POP2018']\n",
    "    \n",
    "print \"In 2018, the percentage of Washington State's population that is urbanized is approximately \" + str(round(UrbanPop / pop_sum * 100, 2)) + \"%.\""
   ]
  },
  {
   "cell_type": "code",
   "execution_count": 5,
   "metadata": {},
   "outputs": [
    {
     "name": "stdout",
     "output_type": "stream",
     "text": [
      "In 2018, the percentage of Washington State's land that is urbanized is 2.28%.\n"
     ]
    }
   ],
   "source": [
    "#Step 3 - What percentage of the land area of the state is urbanized\n",
    "#Similar to step 2, just using land variables\n",
    "UrbanLand = 0\n",
    "land_sum = wa_cbg.ALANDMI.sum()\n",
    "\n",
    "for index, row in wa_cbg.iterrows():\n",
    "    if row['Urban_Rural'] == 'Urban':\n",
    "        UrbanLand = UrbanLand + wa_cbg.loc[index, 'ALANDMI']\n",
    "\n",
    "print \"In 2018, the percentage of Washington State's land that is urbanized is \" + str(round(UrbanLand / land_sum * 100, 2)) + \"%.\""
   ]
  },
  {
   "cell_type": "code",
   "execution_count": 6,
   "metadata": {
    "scrolled": true
   },
   "outputs": [
    {
     "name": "stdout",
     "output_type": "stream",
     "text": [
      "       ALANDMI   POP2008   08_dens 08_Urban_Rural\n",
      "0      616.711   735.669   1.19289          Rural\n",
      "1        3.774  1163.429   308.275          Rural\n",
      "2        3.236   560.773   173.292          Rural\n",
      "3      417.409   454.080   1.08785          Rural\n",
      "4      135.972   724.901   5.33125          Rural\n",
      "5      461.878   584.705   1.26593          Rural\n",
      "6        4.763  1844.450   387.245          Rural\n",
      "7      164.733  1245.989   7.56369          Rural\n",
      "8       66.782  1311.997    19.646          Rural\n",
      "9       41.106  1017.254   24.7471          Rural\n",
      "10       2.519  1284.279   509.837          Rural\n",
      "11       0.323  1190.347   3685.28          Urban\n",
      "12       0.988  1611.133    1630.7          Urban\n",
      "13       3.452  2039.884   590.928          Rural\n",
      "14       1.330  2445.110   1838.43          Urban\n",
      "15     185.542  1336.262   7.20194          Rural\n",
      "16     320.618   770.880   2.40436          Rural\n",
      "17      11.314  2111.971   186.669          Rural\n",
      "18       1.449  1095.794   756.242          Rural\n",
      "19       0.387  1070.460   2766.05          Urban\n",
      "20       1.171   778.920   665.175          Rural\n",
      "21     110.981  1589.807    14.325          Rural\n",
      "22       0.788  1101.625      1398          Urban\n",
      "23       0.172   904.986   5261.55          Urban\n",
      "24       0.198   810.687   4094.38          Urban\n",
      "25       0.374   981.386   2624.03          Urban\n",
      "26       0.328  1103.433   3364.12          Urban\n",
      "27       0.285  1039.094   3645.94          Urban\n",
      "28       0.133   711.563    5350.1          Urban\n",
      "29       0.172   706.736   4108.93          Urban\n",
      "...        ...       ...       ...            ...\n",
      "4753   160.674   991.190   6.16895          Rural\n",
      "4754     2.864  1405.493   490.745          Rural\n",
      "4755     4.890   891.984    182.41          Rural\n",
      "4756     3.442  1377.215   400.121          Rural\n",
      "4757     4.391  1918.007   436.804          Rural\n",
      "4758     0.991  1124.997   1135.21          Urban\n",
      "4759    20.113  2154.366   107.113          Rural\n",
      "4760     0.616  1714.444   2783.19          Urban\n",
      "4761     0.975  2316.911   2376.32          Urban\n",
      "4762     2.604  2498.835   959.614          Rural\n",
      "4763     7.078  2421.899   342.173          Rural\n",
      "4764     3.391  1925.275    567.76          Rural\n",
      "4765    46.480   845.097   18.1819          Rural\n",
      "4766    42.397  1787.976   42.1722          Rural\n",
      "4767     9.770  1010.996    103.48          Rural\n",
      "4768    11.137  1326.756    119.13          Rural\n",
      "4769     8.006  1476.221   184.389          Rural\n",
      "4770    27.839   775.577   27.8594          Rural\n",
      "4771    12.031  1467.405   121.969          Rural\n",
      "4772    49.967  2157.226    43.173          Rural\n",
      "4773  1687.078  1097.148  0.650324          Rural\n",
      "4774    52.346   828.465   15.8267          Rural\n",
      "4775    46.332  1891.758   40.8305          Rural\n",
      "4776     1.121  2052.041   1830.55          Urban\n",
      "4777     1.294  2265.016    1750.4          Urban\n",
      "4778     0.816  2414.886   2959.42          Urban\n",
      "4779     0.806  2428.509   3013.04          Urban\n",
      "4780     1.177  2254.599   1915.55          Urban\n",
      "4781     1.372  2634.277   1920.03          Urban\n",
      "4782     0.368  2235.770   6075.46          Urban\n",
      "\n",
      "[4783 rows x 4 columns]\n"
     ]
    }
   ],
   "source": [
    "#Step 4 - Add column showing whether block groups have urbanized, no change, or deurbanized over the previous decade ('08-'18)\n",
    "#must show as string, not in terms of numerical change, can calculate this by showing Urban_Rural columns for 2008 and comparing to 2018\n",
    "\n",
    "#repeating step 1 for 2008, good reminder that I should make variables/column names as specific as possible, now dealing with a dens, and 2008_dens column\n",
    "\n",
    "\n",
    "wa_cbg['08_dens'] = None\n",
    "wa_cbg['08_Urban_Rural'] = None\n",
    "\n",
    "for index, row in wa_cbg.iterrows():\n",
    "    if row['ALANDMI'] == 0:\n",
    "        wa_cbg.loc[index, '08_dens'] = 0\n",
    "    else:\n",
    "        wa_cbg.loc[index, '08_dens'] = (row['POP2008'] / row['ALANDMI'])\n",
    "        \n",
    "wa_cbg.head() #checking if new columns exist\n",
    "\n",
    "for index, row in wa_cbg.iterrows():\n",
    "    if row['08_dens'] >= 1000:\n",
    "        wa_cbg.loc[index, '08_Urban_Rural'] = 'Urban'\n",
    "    else:\n",
    "        wa_cbg.loc[index, '08_Urban_Rural'] = 'Rural'\n",
    "\n",
    "print wa_cbg[['ALANDMI', 'POP2008', '08_dens', '08_Urban_Rural']]"
   ]
  },
  {
   "cell_type": "code",
   "execution_count": 7,
   "metadata": {
    "scrolled": true
   },
   "outputs": [
    {
     "name": "stdout",
     "output_type": "stream",
     "text": [
      "0       no change in category\n",
      "1       no change in category\n",
      "2       no change in category\n",
      "3       no change in category\n",
      "4       no change in category\n",
      "5       no change in category\n",
      "6       no change in category\n",
      "7       no change in category\n",
      "8       no change in category\n",
      "9       no change in category\n",
      "10      no change in category\n",
      "11      no change in category\n",
      "12      no change in category\n",
      "13      no change in category\n",
      "14      no change in category\n",
      "15      no change in category\n",
      "16      no change in category\n",
      "17      no change in category\n",
      "18      no change in category\n",
      "19      no change in category\n",
      "20      no change in category\n",
      "21      no change in category\n",
      "22      no change in category\n",
      "23      no change in category\n",
      "24      no change in category\n",
      "25      no change in category\n",
      "26      no change in category\n",
      "27      no change in category\n",
      "28      no change in category\n",
      "29      no change in category\n",
      "                ...          \n",
      "4753    no change in category\n",
      "4754    no change in category\n",
      "4755    no change in category\n",
      "4756    no change in category\n",
      "4757    no change in category\n",
      "4758    no change in category\n",
      "4759    no change in category\n",
      "4760    no change in category\n",
      "4761    no change in category\n",
      "4762                urbanized\n",
      "4763    no change in category\n",
      "4764    no change in category\n",
      "4765    no change in category\n",
      "4766    no change in category\n",
      "4767    no change in category\n",
      "4768    no change in category\n",
      "4769    no change in category\n",
      "4770    no change in category\n",
      "4771    no change in category\n",
      "4772    no change in category\n",
      "4773    no change in category\n",
      "4774    no change in category\n",
      "4775    no change in category\n",
      "4776    no change in category\n",
      "4777    no change in category\n",
      "4778    no change in category\n",
      "4779    no change in category\n",
      "4780    no change in category\n",
      "4781    no change in category\n",
      "4782    no change in category\n",
      "Name: urban_change, Length: 4783, dtype: object\n"
     ]
    }
   ],
   "source": [
    "#Step 4 - new '08-'18 change in urbanization column + comparing Urban_Rural from 08 and 18\n",
    "\n",
    "#creating change column\n",
    "wa_cbg['urban_change'] = None\n",
    "\n",
    "for index, row in wa_cbg.iterrows():\n",
    "    \n",
    "    if row['08_Urban_Rural'] == row['Urban_Rural']:\n",
    "        wa_cbg.loc[index, 'urban_change'] = 'no change in category'\n",
    "    elif row['08_Urban_Rural'] == 'Urban' and row['Urban_Rural'] == 'Rural':\n",
    "        wa_cbg.loc[index, 'urban_change'] = 'de-urbanized'\n",
    "    elif row['08_Urban_Rural'] == 'Rural' and row['Urban_Rural'] == 'Urban':\n",
    "        wa_cbg.loc[index, 'urban_change'] = 'urbanized'\n",
    "\n",
    "print wa_cbg['urban_change'] #testing df"
   ]
  },
  {
   "cell_type": "code",
   "execution_count": 8,
   "metadata": {},
   "outputs": [
    {
     "name": "stdout",
     "output_type": "stream",
     "text": [
      "65 block groups have urbanized over the decade between 2008 and 2018, while 2 block groups have deurbanized in the same time frame.\n"
     ]
    }
   ],
   "source": [
    "#Step 5 - how many block groups urbanized and how many deurbanized between '08 - '18\n",
    "#variables for \n",
    "wa_urbanized = (wa_cbg['urban_change'] == 'urbanized').sum()\n",
    "wa_deurbanized = (wa_cbg['urban_change'] == 'de-urbanized').sum()\n",
    "\n",
    "print str(wa_urbanized) + \" block groups have urbanized over the decade between 2008 and 2018, while \" + str(wa_deurbanized) + \" block groups have deurbanized in the same time frame.\"\n"
   ]
  },
  {
   "cell_type": "code",
   "execution_count": 29,
   "metadata": {
    "scrolled": false
   },
   "outputs": [
    {
     "name": "stdout",
     "output_type": "stream",
     "text": [
      "Index([     u'STATEFP10',     u'COUNTYFP10',      u'TRACTCE10',\n",
      "           u'BLKGRPCE10',        u'GEOID10',     u'NAMELSAD10',\n",
      "              u'MTFCC10',     u'FUNCSTAT10',     u'INTPTLON10',\n",
      "           u'INTPTLAT10',\n",
      "       ...\n",
      "            u'COHU00_10',     u'PCOHU00_10',      u'COHU10_18',\n",
      "           u'PCOHU10_18',       u'geometry',           u'dens',\n",
      "          u'Urban_Rural',        u'08_dens', u'08_Urban_Rural',\n",
      "         u'urban_change'],\n",
      "      dtype='object', length=136)\n"
     ]
    },
    {
     "data": {
      "text/plain": [
       "<matplotlib.axes._subplots.AxesSubplot at 0xc649250>"
      ]
     },
     "execution_count": 29,
     "metadata": {},
     "output_type": "execute_result"
    },
    {
     "data": {
      "image/png": "[encoded data removed]",
      "text/plain": [
       "<Figure size 432x288 with 1 Axes>"
      ]
     },
     "metadata": {
      "needs_background": "light"
     },
     "output_type": "display_data"
    }
   ],
   "source": [
    "#Step 6 - Creating plot using 2008 and 2018 urban data\n",
    "print(wa_cbg.columns)\n",
    "wa_cbg.head(2)\n",
    "\n",
    "wa_cbg['Urban_Rural'].head(5)\n",
    "\n",
    "wa_cbg['Urban_Rural'].value_counts().plot(kind='barh')"
   ]
  },
  {
   "cell_type": "code",
   "execution_count": 43,
   "metadata": {},
   "outputs": [
    {
     "data": {
      "text/plain": [
       "<matplotlib.axes._subplots.AxesSubplot at 0xc46b810>"
      ]
     },
     "execution_count": 43,
     "metadata": {},
     "output_type": "execute_result"
    },
    {
     "data": {
      "image/png": "[encoded data removed]",
      "text/plain": [
       "<Figure size 432x288 with 1 Axes>"
      ]
     },
     "metadata": {
      "needs_background": "light"
     },
     "output_type": "display_data"
    }
   ],
   "source": [
    "\n",
    "wa_cbg['08_Urban_Rural'].value_counts().plot(kind='barh', title=\"2008 Urban vs Rural Census Blocks\", legend=True)\n"
   ]
  },
  {
   "cell_type": "code",
   "execution_count": 44,
   "metadata": {},
   "outputs": [
    {
     "data": {
      "text/plain": [
       "<matplotlib.axes._subplots.AxesSubplot at 0xd4b4b30>"
      ]
     },
     "execution_count": 44,
     "metadata": {},
     "output_type": "execute_result"
    },
    {
     "data": {
      "image/png": "[encoded data removed]",
      "text/plain": [
       "<Figure size 432x288 with 1 Axes>"
      ]
     },
     "metadata": {
      "needs_background": "light"
     },
     "output_type": "display_data"
    }
   ],
   "source": []
  },
  {
   "cell_type": "code",
   "execution_count": null,
   "metadata": {},
   "outputs": [],
   "source": []
  }
 ],
 "metadata": {
  "kernelspec": {
   "display_name": "Python 2",
   "language": "python",
   "name": "python2"
  },
  "language_info": {
   "codemirror_mode": {
    "name": "ipython",
    "version": 2
   },
   "file_extension": ".py",
   "mimetype": "text/x-python",
   "name": "python",
   "nbconvert_exporter": "python",
   "pygments_lexer": "ipython2",
   "version": "2.7.15"
  }
 },
 "nbformat": 4,
 "nbformat_minor": 2
}
