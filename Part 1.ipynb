{
 "cells": [
  {
   "cell_type": "markdown",
   "metadata": {},
   "source": [
    "# Introduction\n",
    "\n",
    "### Definitions of 'Urban' and 'Rural'\n",
    "\n",
    ">The Census Bureau’s urban areas represent densely developed territory, and encompass residential, commercial, and other non-residential urban land uses. The Census Bureau delineates urban areas after each decennial census by applying specified criteria to decennial census and other data.\n",
    "\n",
    "According to the US Census Bureau, the [2010 Census](https://www.census.gov/geo/reference/ua/urban-rural-2010.html) quantified urban areas as encompassing a minimum of 2,500 people, including at least 1,500 in the surrounding area. The US Census defines two types of urban areas, categorized by population: **Urbanized Areas** (UAs) with 50,000 or greater, and **Urban Clusters** (UCs) with 2,500 up to 50,000. After 2010, [around 500 UAs and 3,000 UCs](https://www.census.gov/geo/reference/ua/uafacts.html) were defined in the US. Around 80 percent of the US population was living within urban areas at this time.  \n",
    "\n",
    ">'Rural' encompasses all population, housing, and territory not included within an urban area.  \n",
    "\n",
    "Interestingly, \"rural\" lacks its own discrete definition. The Census Bureau defines \"rural\" in terms of the \"urban\" - as being excluded from the urban area.\n",
    "\n",
    "Another way of measuring an area's degree of 'urban' is through [**Metropolitan** and **Micropolitan** areas](https://www.census.gov/library/publications/2012/dec/c2010sr-01.html). These are better suited for many inquiries as opposed to overly large states or too many small counties. These alternate areas are \"socially and economically integrated groupings of one or more counties\" and \"provide appropriately detailed geographic analysis as well as good mapping units for a national overview.\"\n",
    "\n",
    "### Other Definitions\n",
    "\n",
    "In England and Wales, the units are called **'Output Areas'**. Here, 'urban' does not have one single definition due to varying criteria. The Office for National Statistics determines 'urban' on the basis of having [greater than 10,000 people](https://www.ons.gov.uk/methodology/geography/geographicalproducts/ruralurbanclassifications/2011ruralurbanclassification). Around 80% of England's population lived in urban areas in 2011. \n",
    "Similar to the US, 'rural' is also classified as simply *not being urban* in the UK. There are more categories to describe a rural area (town and fringe, village, hamlet and isolated dwellings), as well as each type being [\"sparse\" or \"less sparse\"](https://webarchive.nationalarchives.gov.uk/20160107121407/http://www.ons.gov.uk/ons/guide-method/geography/products/area-classifications/rural-urban-definition-and-la/rural-urban-definition--england-and-wales-/index.html).\n",
    "\n",
    "A different theoretical definition of urban areas includes not only a high population count, but that population *density* being higher as well. This characteristic is accompanied by the connotation of a large built environment, including skyscrapers, mass transportation, large commercial land use, and bustling city streets. Additionally, just outside of this \"urban core\" described above, is the theoretical understanding that the greater urbanized area is surrounded by areas of varying degrees of high population, mixed land uses (including some residential), and satellite cities, all of which are connected to the core.  \n",
    "\n",
    "### Data Source\n",
    "\n",
    "The data used for this lab is provided by the State of Washington Office of Financial Management's [**Small Area Estimates Program** (SAEP)](https://www.ofm.wa.gov/washington-data-research/population-demographics/population-estimates/small-area-estimates-program).\n",
    "\n",
    ">The SAEP estimates include both intercensal and postcensal estimates. The data for years 2000-2009 are considered intercensal estimates whereas the data for years 2011-present are considered postcensal estimates. The two estimate series differ in their development and revision cycles but both series are based on 2010 census blocks.  \n",
    "\n",
    "Three variables are measured during the estimation process: group quarter populations, housing units, and household populations. This demographic data is kept in its un-rounded form as a reminder that the figures are estimates. However, because of these approximations, the data is neither a precise statistic nor a definitive count. This process is repeated yearly, and subsequent data builds off of that of the previous year.  \n",
    "\n",
    "Potential issues with this dataset come from inherent error in estimation, specifically in regards to caclucations and original data collection.\n",
    "\n",
    "### Findings\n",
    "\n",
    "<!-- add summary of Part 2-->\n",
    "Our analysis required us to classify each block group as 'urban' or 'rural'. Viewing the shapefile in ArcMap showed that the groups varied widely in size, and with Python's built-in functions we saw that the maximum area was around 1,687 square miles. Based on [Urban Area Census criteria](https://www2.census.gov/geo/pdfs/reference/GARM/Ch12GARM.pdf), we decided on 1,000 people per square mile as the cutoff.  \n",
    "Using for-loops to iterate over each row, new attributes were added for the population density in 2018 and the urban/rural designation. These calculations told us that almost three-quarters of Washington's urbanized population lived in only around two percent of its land area.  \n",
    "The same designation was created for 2008, and change between the decades was determined. The results were somewhat surprising, as only 65 groups changed from rural to urban, and 2 groups changed from urban to rural. Lack of change in the majority (4716 out of 4783) of blocks is attributed to urban blocks in 2018 already having had a density of 1,000 people per square mile or more. There would be more variation in the data if we had created sub-categories like \"Extremely Urban\" or \"Moderately Urban\"."
   ]
  }
 ],
 "metadata": {
  "kernelspec": {
   "display_name": "Python 2",
   "language": "python",
   "name": "python2"
  },
  "language_info": {
   "codemirror_mode": {
    "name": "ipython",
    "version": 2
   },
   "file_extension": ".py",
   "mimetype": "text/x-python",
   "name": "python",
   "nbconvert_exporter": "python",
   "pygments_lexer": "ipython2",
   "version": "2.7.15"
  }
 },
 "nbformat": 4,
 "nbformat_minor": 2
}
